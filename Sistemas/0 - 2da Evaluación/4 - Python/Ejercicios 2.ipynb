{
 "cells": [
  {
   "attachments": {},
   "cell_type": "markdown",
   "metadata": {},
   "source": [
    "<center>\n",
    "<h1 style=\"color: #007BC4;\">Curso de programación con Python</h1> \n",
    "<h3 style=\"color: #333333;\">SEMANA 2 - EJERCICIOS</h3> \n",
    "</center>\n",
    "\n",
    "<br>\n"
   ]
  },
  {
   "attachments": {},
   "cell_type": "markdown",
   "metadata": {},
   "source": [
    "#### Autor: escribir aquí el nombre del autor\n",
    "Gerardo A. Otero Rodríguez\n"
   ]
  },
  {
   "attachments": {},
   "cell_type": "markdown",
   "metadata": {},
   "source": [
    "<h2 style=\"color: #007BC4;\">Ejercicio 1</h2>\n",
    "<hr style=\"border: 0.5px solid #007BC4;\">\n",
    "\n",
    "Los tramos impositivos para la declaración de la renta en un determinado país son los siguientes:\n",
    "\n",
    "|         Renta          | Tipo impositivo |\n",
    "| :--------------------: | :-------------: |\n",
    "|    Menos de 10000€     |       5%        |\n",
    "| Entre 10000€ y 20000€  |       15%       |\n",
    "| Entre 200000€ y 35000€ |       20%       |\n",
    "| Entre 350000€ y 60000€ |       30%       |\n",
    "|     Más de 60000€      |       45%       |\n",
    "\n",
    "Escribir un programa que pregunte al usuario su renta anual y muestre por pantalla el tipo impositivo que le corresponde. \n",
    "\n",
    "\n",
    "#### Ejemplos de ejecución:\n",
    "\n",
    "<pre>\n",
    "¿Cuál es tu renta anual? 0\n",
    "Error, la renta ha de ser mayor que 0.\n",
    "\n",
    "--------------------------------------------------------------\n",
    "\n",
    "¿Cuál es tu renta anual? 40000\n",
    "Tu tipo impositivo es 30%\n",
    "</pre>"
   ]
  },
  {
   "cell_type": "code",
   "execution_count": 2,
   "metadata": {},
   "outputs": [
    {
     "name": "stdout",
     "output_type": "stream",
     "text": [
      "Tu tipo impositivo es del 5%\n"
     ]
    }
   ],
   "source": [
    "#Escribe aquí el código de tu solución\n",
    "\n",
    "rentaAnual = float(input(\"Dime tu renta anual\"))\n",
    "\n",
    "if rentaAnual <=0:\n",
    "    rentaAnual = float(input(\"Non pode ser 0, introduce o número de novo\"))\n",
    "\n",
    "else:\n",
    "\n",
    "    if rentaAnual < 10000:\n",
    "        print(f\"Tu tipo impositivo es del 5%\")\n",
    "\n",
    "    elif rentaAnual >= 10000 and rentaAnual <20000:\n",
    "        print(f\"Tu tipo impositivo es del 15%\")\n",
    "\n",
    "    elif rentaAnual >= 20000 and rentaAnual <35000:\n",
    "        print(f\"Tu tipo impositivo es del 20%\")\n",
    "\n",
    "    elif rentaAnual >= 35000 and rentaAnual <60000:\n",
    "        print(f\"Tu tipo impositivo es del 30%\")\n",
    "\n",
    "    else:\n",
    "        print(f\"Tu tipo impositivo es del 45%\")\n",
    "\n"
   ]
  },
  {
   "attachments": {},
   "cell_type": "markdown",
   "metadata": {},
   "source": [
    "<h2 style=\"color: #007BC4;\">Ejercicio 2</h2>\n",
    "<hr style=\"border: 0.5px solid #007BC4;\">\n",
    "\n",
    "Escribir un programa que pida al usuario un número entero positivo y muestre por pantalla la cuenta atrás desde ese número hasta cero separados por comas.\n",
    "\n",
    "#### Ejemplo de ejecución:\n",
    "<pre>\n",
    "Introduce un número entero positivo: 20\n",
    "20, 19, 18, 17, 16, 15, 14, 13, 12, 11, 10, 9, 8, 7, 6, 5, 4, 3, 2, 1, 0\n",
    "</pre>"
   ]
  },
  {
   "cell_type": "code",
   "execution_count": 2,
   "metadata": {},
   "outputs": [
    {
     "name": "stdout",
     "output_type": "stream",
     "text": [
      "10, 9, 8, 7, 6, 5, 4, 3, 2, 1, 0, \n"
     ]
    }
   ],
   "source": [
    "#Escribe aquí el código de tu solución\n",
    "\n",
    "numero=int(input(\"Dime o número enteiro\"))\n",
    "s = \"\"\n",
    "for i in range(numero, -1, -1): \n",
    "    s += str(i)+ \", \"\n",
    "print(s)\n"
   ]
  },
  {
   "attachments": {},
   "cell_type": "markdown",
   "metadata": {},
   "source": [
    "<h2 style=\"color: #007BC4;\">Ejercicio 3</h2>\n",
    "<hr style=\"border: 0.5px solid #007BC4;\">\n",
    "\n",
    "Desarrollar un programa en Python que dibuje en pantalla una figura tipo sierra haciendo uso del carácter #.\n",
    "Para ello, se preguntará al usuario:\n",
    "- El ancho de la figura (valor entre 2 y 10). \n",
    "- El número de dientes de sierra que tendrá la figura (valor entre 2 y 10)\n",
    "\n",
    "#### Ejemplo de ejecución:\n",
    "<pre>\n",
    "Introduce la longitud del diente de sierra (2<=n<=10): 5\n",
    "Introduce el número de dientes de la figura (1<=n<=10): 2\n",
    "#\n",
    "##\n",
    "###\n",
    "####\n",
    "#####\n",
    "####\n",
    "###\n",
    "##\n",
    "#\n",
    "#\n",
    "##\n",
    "###\n",
    "####\n",
    "#####\n",
    "####\n",
    "###\n",
    "##\n",
    "#\n",
    "</pre>"
   ]
  },
  {
   "cell_type": "code",
   "execution_count": 5,
   "metadata": {},
   "outputs": [
    {
     "name": "stdout",
     "output_type": "stream",
     "text": [
      "#\n",
      "##\n",
      "###\n",
      "####\n",
      "#####\n",
      "####\n",
      "###\n",
      "##\n",
      "#\n",
      "#\n",
      "##\n",
      "###\n",
      "####\n",
      "#####\n",
      "####\n",
      "###\n",
      "##\n",
      "#\n"
     ]
    }
   ],
   "source": [
    "#Escribe aquí el código de tu solución\n",
    "\n",
    "\n",
    "ancho = int(input(\"Dime o ancho, entre 2 e 10\"))\n",
    "dientes = int(input(\"Dime o número de dentes entre 2 e 10\"))\n",
    "\n",
    "while (ancho < 2 and ancho > 10):\n",
    "    print(f\"El ancho es incorrecto\")\n",
    "    ancho = int(input(\"Dime o ancho, entre 2 e 10\"))\n",
    "\n",
    "while (dientes < 2 and ancho > 10):\n",
    "    print(f\"los dientes son incorrectos\")\n",
    "    ancho = int(input(\"Dime os dentes, entre 2 e 10\"))\n",
    "\n",
    " \n",
    "for i in range(1,dientes+1):\n",
    "    for x in range(1,ancho+1):\n",
    "        print(\"#\"*x)\n",
    "    for j in range(ancho-1,0,-1):\n",
    "        print(\"#\"*j)\n"
   ]
  },
  {
   "attachments": {},
   "cell_type": "markdown",
   "metadata": {},
   "source": [
    "<h2 style=\"color: #007BC4;\">Ejercicio 4</h2>\n",
    "<hr style=\"border: 0.5px solid #007BC4;\">\n",
    "\n",
    "Realizar un programa en Python que pida al usuario la dimensión y los elementos de dos listas de números enteros (pueden tener distinta dimensión):\n",
    "\n",
    "- Una vez leídos los datos y almacenados en las listas, se generará una nueva lista que será la intersección de ambas, es decir, contendrá aquellos elementos que se encuentren en ambas listas.\n",
    "- El vector intersección se mostrará por pantalla siempre que existan elementos comunes.\n",
    "\n",
    "NOTA: se asume que el usuario no introduce elementos repetidos dentro del mismo vector.\n",
    "\n",
    "\n",
    "#### Ejemplo de ejecución:\n",
    "\n",
    "<pre>\n",
    "Introduce el numero de elementos de la lista 1 (>0):  3\n",
    "Introduce los números:\n",
    "Dato 1: 2\n",
    "Dato 2: 4\n",
    "Dato 3: 1\n",
    "\n",
    "Introduce el numero de elementos de la lista 2 (>0):  5\n",
    "Introduce los números:\n",
    "Dato 1: 3\n",
    "Dato 2: 3\n",
    "Error, elemento repetido. Dato 2: 2\n",
    "Dato 3: 9\n",
    "Dato 4: 0\n",
    "Dato 5: 1\n",
    "\n",
    "La intersección de las listas es: 2 1\n",
    "\n",
    "-----------------------------------------------------------\n",
    "\n",
    "Introduce el numero de elementos de la lista 1 (>0):  2\n",
    "Introduce los números:\n",
    "Dato 0: 3\n",
    "Dato 1: -2\n",
    "\n",
    "Introduce el numero de elementos de la lista 2 (>0):  3\n",
    "Introduce los números:\n",
    "Dato 0: 0\n",
    "Dato 1: 4\n",
    "Dato 2: 5\n",
    "\n",
    "No hay elementos comunes\n",
    "</pre>\n"
   ]
  },
  {
   "cell_type": "code",
   "execution_count": 6,
   "metadata": {},
   "outputs": [],
   "source": [
    "\n",
    "def cargarLista(dimension):\n",
    "\n",
    "    array = [dimension]\n",
    "\n",
    "    for i in range (0,len(array)):\n",
    "        dato=int(input(\"Dime o dato\"))\n",
    "        array.append(int(input(f\"Dato {i}:\")))\n",
    "    \n",
    "\n",
    "\n",
    "dimension=int(input(\"Dime a dimensión do array\"))\n",
    "\n",
    "cargarLista(dimension);\n",
    "\n"
   ]
  },
  {
   "attachments": {},
   "cell_type": "markdown",
   "metadata": {},
   "source": [
    "<h2 style=\"color: #007BC4;\">Ejercicio 5</h2>\n",
    "<hr style=\"border: 0.5px solid #007BC4;\">\n",
    "\n",
    "Implementar un programa en Python que:\n",
    "- Lea una frase (f) por teclado.\n",
    "- Lea un caracter por teclado (c) \n",
    "- Cambie todas las vocales de f por c Muestre f\n",
    "\n",
    "#### Ejemplo de ejecución:\n",
    "\n",
    "Dime una frase: Programar en python es muy divertido<br>\n",
    "Dime un caracter: o<br>\n",
    "La nueva frase es: Progromor on python os moy dovortodo<br>\n",
    "\n",
    "================================================================\n",
    "\n",
    "Dime una frase: Estamos trabajando con listas<br>\n",
    "Dime un caracter: ?<br>\n",
    "La nueva frase es: ?st?m?s tr?b?j?nd? c?n l?st?s<br>"
   ]
  },
  {
   "cell_type": "code",
   "execution_count": 4,
   "metadata": {},
   "outputs": [
    {
     "name": "stdout",
     "output_type": "stream",
     "text": [
      "h*l* q** t*l\n"
     ]
    }
   ],
   "source": [
    "\n",
    "\n",
    "def cambiarCaracter(frase, caracter):\n",
    "    vocales = [\"a\",\"e\",\"i\", \"o\", \"u\"]\n",
    "\n",
    "    for i in frase:\n",
    "        if i in vocales:\n",
    "            frase = frase.replace(i,caracter)\n",
    "        \n",
    "    print(frase)\n",
    "\n",
    "frase = input(\"Dime unha frase\")\n",
    "caracter = input(\"Dime un caracter\")\n",
    "\n",
    "cambiarCaracter(frase, caracter)\n",
    "\n",
    "\n",
    "      \n",
    "\n"
   ]
  }
 ],
 "metadata": {
  "kernelspec": {
   "display_name": "Python 3 (ipykernel)",
   "language": "python",
   "name": "python3"
  },
  "language_info": {
   "codemirror_mode": {
    "name": "ipython",
    "version": 3
   },
   "file_extension": ".py",
   "mimetype": "text/x-python",
   "name": "python",
   "nbconvert_exporter": "python",
   "pygments_lexer": "ipython3",
   "version": "3.11.3"
  },
  "vscode": {
   "interpreter": {
    "hash": "7e1998ff7f8aa20ada591c520b972326324e5ea05489af9e422744c7c09f6dad"
   }
  }
 },
 "nbformat": 4,
 "nbformat_minor": 4
}
